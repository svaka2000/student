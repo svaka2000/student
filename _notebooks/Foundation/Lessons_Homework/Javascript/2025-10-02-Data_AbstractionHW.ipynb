{
 "cells": [
  {
   "cell_type": "markdown",
   "id": "f7e0c68d",
   "metadata": {},
   "source": [
    "---\n",
    "layout: default\n",
    "toc: True\n",
    "breadcrumb: True\n",
    "title: Data Abstraction Homework Javascript\n",
    "description: This is my data abstraction homework for javascript.\n",
    "permalink: /github/pages/data_abstraction_hw_js\n",
    "author: Samarth Vaka\n",
    "---"
   ]
  },
  {
   "cell_type": "code",
   "execution_count": null,
   "id": "325c1eec",
   "metadata": {
    "vscode": {
     "languageId": "javascript"
    }
   },
   "outputs": [],
   "source": [
    "// Step 1: Edit the students list\n",
    "let students = [\"Akhil\", \"Rudra\", \"Samarth\", \"Shayan\", \"Darshan\"];\n",
    "\n",
    "// Step 2: Edit the scores list\n",
    "let scores = [89, 93, 78, 85, 91];\n",
    "\n",
    "// Output class roster with scores\n",
    "console.log(\" Student Grades:\");\n",
    "for (let i = 0; i < students.length; i++) {\n",
    "  console.log(students[i] + \" received a grade of \" + scores[i]);\n",
    "}\n",
    "\n",
    "//  Hack Challenge\n",
    "// New list of favorite movies\n",
    "let favoriteMovies = [\"Inception\", \"Spirited Away\", \"Avengers\", \"Coco\", \"Interstellar\"];\n",
    "\n",
    "// Output each movie\n",
    "console.log(\"\\n My Favorite Movies:\");\n",
    "for (let i = 0; i < favoriteMovies.length; i++) {\n",
    "  console.log(favoriteMovies[i]);\n",
    "}\n",
    "\n",
    "// Another example is a list of sports\n",
    "let sports = [\"Soccer\", \"Basketball\", \"Tennis\", \"Swimming\"];\n",
    "\n",
    "// Output each sport\n",
    "console.log(\"\\n Sports That i Like:\");\n",
    "for (let i = 0; i < sports.length; i++) {\n",
    "  console.log(sports[i]);\n",
    "}"
   ]
  }
 ],
 "metadata": {
  "language_info": {
   "name": "python"
  }
 },
 "nbformat": 4,
 "nbformat_minor": 5
}
