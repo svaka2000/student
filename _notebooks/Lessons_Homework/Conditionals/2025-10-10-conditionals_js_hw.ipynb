{
 "cells": [
  {
   "cell_type": "markdown",
   "id": "9f709aae",
   "metadata": {},
   "source": [
    "---\n",
    "layout: default\n",
    "toc: True\n",
    "breadcrumb: True\n",
    "title: Conditionals Homework Javascript\n",
    "description: This is my data Conditionals homework for javascript.\n",
    "permalink: /github/pages/Conditionals_hw_js\n",
    "author: Samarth Vaka\n",
    "---"
   ]
  },
  {
   "cell_type": "code",
   "execution_count": null,
   "id": "fdbf25a7",
   "metadata": {
    "vscode": {
     "languageId": "javascript"
    }
   },
   "outputs": [],
   "source": [
    "%%js\n",
    "let snakeDead = true;\n",
    "\n",
    "if (snakeDead === false) {\n",
    "    console.log(\"Continue game\");\n",
    "} else { \n",
    "    console.log(\"Game over\");\n",
    "}"
   ]
  },
  {
   "cell_type": "code",
   "execution_count": null,
   "id": "fe32d7e6",
   "metadata": {
    "vscode": {
     "languageId": "javascript"
    }
   },
   "outputs": [],
   "source": [
    "%%js \n",
    "\n",
    "// <-- Example Code\n",
    "\n",
    "let x = 19;\n",
    "\n",
    "if (x >= 18) {\n",
    "    console.log(\"You can vote\");\n",
    "} else {\n",
    "    console.log(\"You are too young to vote\");\n",
    "}"
   ]
  },
  {
   "cell_type": "code",
   "execution_count": null,
   "id": "97a74089",
   "metadata": {
    "vscode": {
     "languageId": "javascript"
    }
   },
   "outputs": [],
   "source": [
    "%%js \n",
    "\n",
    "// Do the homework in this code cell\n",
    "let score = 75;  // I changed this value to test different outputs\n",
    "\n",
    "if (score >= 90) {\n",
    "    console.log(\"Excellent\");\n",
    "} else if (score >= 60 && score <= 89) {\n",
    "    console.log(\"Good\");\n",
    "} else {\n",
    "    console.log(\"Fail\");\n",
    "}"
   ]
  }
 ],
 "metadata": {
  "language_info": {
   "name": "python"
  }
 },
 "nbformat": 4,
 "nbformat_minor": 5
}
