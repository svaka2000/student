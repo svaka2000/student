{
 "cells": [
  {
   "cell_type": "markdown",
   "id": "a7af1994",
   "metadata": {},
   "source": [
    "---\n",
    "layout: default\n",
    "toc: True\n",
    "breadcrumb: True\n",
    "title: Boolean Expressions Homework Python\n",
    "description: This is my Boolean Expressions homework for Python.\n",
    "permalink: /github/pages/Boolean_Expressions_hw_py\n",
    "author: Samarth Vaka\n",
    "---"
   ]
  },
  {
   "cell_type": "code",
   "execution_count": null,
   "id": "7357f296",
   "metadata": {},
   "outputs": [],
   "source": [
    "num = 3  # testing number\n",
    "\n",
    "# Check if num is even\n",
    "if num % 2 == 0:\n",
    "    print(f\"{num} is even\")\n",
    "else:\n",
    "    print(f\"{num} is not even\")\n",
    "\n",
    "# Check if num is odd\n",
    "if num % 2 != 0:\n",
    "    print(f\"{num} is odd\")\n",
    "else:\n",
    "    print(f\"{num} is not odd\")\n",
    "    \n",
    "# 7 is not even\n",
    "# 7 is odd"
   ]
  },
  {
   "cell_type": "code",
   "execution_count": null,
   "id": "57e5dd57",
   "metadata": {},
   "outputs": [],
   "source": [
    "# Type the appropriate answer for each question above\n",
    "# a) \n",
    "finished_homework = True  # example value\n",
    "test_score = 85            # example value\n",
    "\n",
    "can_go_out = finished_homework and test_score >= 80\n",
    "print(can_go_out)  # True if both conditions are met\n",
    "\n",
    "# b)\n",
    "is_cloudy = False   # example value\n",
    "temperature = 78    # example value\n",
    "\n",
    "leave_umbrella = not is_cloudy and temperature > 75\n",
    "print(leave_umbrella)  # True if both conditions are met\n",
    "\n",
    "# True\n",
    "# True"
   ]
  }
 ],
 "metadata": {
  "language_info": {
   "name": "python"
  }
 },
 "nbformat": 4,
 "nbformat_minor": 5
}
