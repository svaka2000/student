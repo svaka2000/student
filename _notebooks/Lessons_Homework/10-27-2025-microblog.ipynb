{
 "cells": [
  {
   "cell_type": "markdown",
   "id": "60a23d59",
   "metadata": {},
   "source": [
    "---\n",
    "layout: post \n",
    "microblog: True\n",
    "title: Samarth Vaka's Microblog\n",
    "description: I enjoyed creating my Microblog!. I am Samarth Vaka from per.3 APCSP!\n",
    "author: Samarth Vaka\n",
    "permalink: /microblog/\n",
    "---"
   ]
  }
 ],
 "metadata": {
  "language_info": {
   "name": "python"
  }
 },
 "nbformat": 4,
 "nbformat_minor": 5
}
