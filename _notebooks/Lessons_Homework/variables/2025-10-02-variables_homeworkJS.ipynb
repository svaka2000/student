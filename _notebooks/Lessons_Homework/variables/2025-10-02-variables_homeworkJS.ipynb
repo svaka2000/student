{
 "cells": [
  {
   "cell_type": "markdown",
   "id": "30edd4f4",
   "metadata": {},
   "source": [
    "---\n",
    "layout: post\n",
    "toc: True\n",
    "breadcrumb: True\n",
    "title: Variables Homework Javascript\n",
    "description: This is my variable's homework for javascript.\n",
    "permalink: /github/pages/variables_hw_js\n",
    "author: Samarth Vaka\n",
    "---"
   ]
  },
  {
   "cell_type": "code",
   "execution_count": null,
   "id": "c76e68aa",
   "metadata": {
    "vscode": {
     "languageId": "javascript"
    }
   },
   "outputs": [],
   "source": [
    "// Part 1 \n",
    "// Personal info\n",
    "let myName = \"Samarth Vaka\"; // Fill in your name\n",
    "let myAge = 15; // Fill in your age (number, no quotes)\n",
    "let myCity = \"San Diego\"; // Fill in the city where you live\n",
    "\n",
    "// Part 2 \n",
    "// Preferences\n",
    "let favoriteColor = \"pink\"; // Your favorite color\n",
    "let favoriteFood = \"EggFriedRice\"; // Your favorite food\n",
    "let favoriteMovie = \"InfinityWar\"; // Your favorite movie\n",
    "let favoriteSong = \"BlindingLights\"; // Your favorite song\n",
    "\n",
    "// Part 3 \n",
    "// Reassign some variables (you can change their values later)\n",
    "favoriteFood = \"PepperoniPizza\"; // Change your favorite food\n",
    "myCity = \"San Diego\"; // Change your city\n",
    "let hasPet = true; // true or false (Boolean)\n",
    "\n",
    "// Part 4 \n",
    "// Add some more details\n",
    "let isStudent = true; // true or false\n",
    "let isOnline = true; // true or false\n",
    "let likesMusic = true; // true or false\n",
    "\n",
    "// Part 5: Print Your Life Profile\n",
    "console.log(\"Name:\", myName);\n",
    "console.log(\"Age:\", myAge);\n",
    "console.log(\"City:\", myCity);\n",
    "console.log(\"Favorite color:\", favoriteColor);\n",
    "console.log(\"Favorite food:\", favoriteFood);\n",
    "console.log(\"Favorite movie:\", favoriteMovie);\n",
    "console.log(\"Favorite song:\", favoriteSong);\n",
    "console.log(\"Student?\", isStudent);\n",
    "console.log(\"Has pet?\", hasPet);\n",
    "console.log(\"Online?\", isOnline);\n",
    "console.log(\"Likes music?\", likesMusic);"
   ]
  }
 ],
 "metadata": {
  "language_info": {
   "name": "python"
  }
 },
 "nbformat": 4,
 "nbformat_minor": 5
}
