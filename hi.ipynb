{
 "cells": [
  {
   "cell_type": "markdown",
   "id": "ad638592",
   "metadata": {},
   "source": [
    "---\n",
    "layout: post\n",
    "toc: True\n",
    "breadcrumb: True\n",
    "title: GitHub Pages Jokes \n",
    "description: My funny little unique joke\n",
    "permalink: /github/jokes\n",
    "author: John Mortensen\n",
    "---\n"
   ]
  },
  {
   "cell_type": "markdown",
   "id": "ef24439b",
   "metadata": {},
   "source": [
    "### this is a joke"
   ]
  },
  {
   "cell_type": "code",
   "execution_count": 3,
   "id": "7a3137ac",
   "metadata": {
    "vscode": {
     "languageId": "javascript"
    }
   },
   "outputs": [
    {
     "data": {
      "application/javascript": "console.log(\"If at first you don't succeed; call it version 1.0\");\n",
      "text/plain": [
       "<IPython.core.display.Javascript object>"
      ]
     },
     "metadata": {},
     "output_type": "display_data"
    }
   ],
   "source": [
    "%%js\n",
    "console.log(\"If at first you don't succeed; call it version 1.0\");"
   ]
  }
 ],
 "metadata": {
  "kernelspec": {
   "display_name": "venv",
   "language": "python",
   "name": "python3"
  },
  "language_info": {
   "codemirror_mode": {
    "name": "ipython",
    "version": 3
   },
   "file_extension": ".py",
   "mimetype": "text/x-python",
   "name": "python",
   "nbconvert_exporter": "python",
   "pygments_lexer": "ipython3",
   "version": "3.12.3"
  }
 },
 "nbformat": 4,
 "nbformat_minor": 5
}
