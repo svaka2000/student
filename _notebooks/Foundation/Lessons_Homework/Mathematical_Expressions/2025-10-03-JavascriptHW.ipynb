{
 "cells": [
  {
   "cell_type": "markdown",
   "id": "fd147027",
   "metadata": {},
   "source": [
    "---\n",
    "layout: default\n",
    "toc: True\n",
    "breadcrumb: True\n",
    "title: Mathematical Expressions Homework Javascript\n",
    "description: This is my data Mathematical Expressions homework for javascript.\n",
    "permalink: /github/pages/mathemcatical_expressions_hw_js\n",
    "author: Samarth Vaka\n",
    "---"
   ]
  },
  {
   "cell_type": "code",
   "execution_count": null,
   "id": "f05b11a1",
   "metadata": {
    "vscode": {
     "languageId": "javascript"
    }
   },
   "outputs": [],
   "source": [
    "// 1. Create variables for grades\n",
    "let grade1 = 85;\n",
    "let grade2 = 95;\n",
    "\n",
    "// 2. Calculate the average (use parentheses to ensure correct order)\n",
    "let averageGrade = (grade1 + grade2) / 2;\n",
    "\n",
    "// 3. Display the result\n",
    "console.log(\"Your Grade Average is \" + averageGrade);"
   ]
  },
  {
   "cell_type": "code",
   "execution_count": null,
   "id": "b04573b2",
   "metadata": {
    "vscode": {
     "languageId": "javascript"
    }
   },
   "outputs": [],
   "source": [
    "// 1. Create variables\n",
    "let num1 = 6;\n",
    "let num2 = 7;\n",
    "\n",
    "// 2. Perform arithmetic operations\n",
    "let sum = num1 + num2;\n",
    "let difference = num1 - num2;\n",
    "let product = num1 * num2;\n",
    "let quotient = num1 / num2;\n",
    "\n",
    "// 3. Display all results\n",
    "console.log(\"Sum of the two number =: \" + sum);\n",
    "console.log(\"Difference of the two numbers =: \" + difference);\n",
    "console.log(\"Product of the two numbers = \" + product);\n",
    "console.log(\"Quotient of the two numbers =: \" + quotient);\n"
   ]
  },
  {
   "cell_type": "code",
   "execution_count": null,
   "id": "6000639a",
   "metadata": {
    "vscode": {
     "languageId": "javascript"
    }
   },
   "outputs": [],
   "source": [
    "// 1. Set initial values\n",
    "let num1 = 6;\n",
    "let num2 = 7;\n",
    "\n",
    "// 2. Calculate num3 as the sum of num1 and num2\n",
    "let num3 = num1 + num2;\n",
    "\n",
    "// 3. Calculate num4 as num3 multiplied by 2\n",
    "let num4 = num3 * 2;\n",
    "\n",
    "// 4. Display results\n",
    "console.log(\"num3: \" + num3);\n",
    "console.log(\"num4: \" + num4);"
   ]
  },
  {
   "cell_type": "code",
   "execution_count": null,
   "id": "24a0c327",
   "metadata": {
    "vscode": {
     "languageId": "javascript"
    }
   },
   "outputs": [],
   "source": [
    "/ 1. Set variables\n",
    "let a = 6;\n",
    "let b = 7;\n",
    "let c = 8;\n",
    "\n",
    "// 2. Perform calculations\n",
    "let result1 = a + b * c;      // Multiplication happens before addition\n",
    "let result2 = (a + b) * c;    // Parentheses change the order\n",
    "\n",
    "// 3. Display results\n",
    "console.log(\"result1:\" + result1);\n",
    "console.log(\"result2:\" + result2);"
   ]
  }
 ],
 "metadata": {
  "language_info": {
   "name": "python"
  }
 },
 "nbformat": 4,
 "nbformat_minor": 5
}
