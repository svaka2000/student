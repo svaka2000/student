{
 "cells": [
  {
   "cell_type": "markdown",
   "id": "e032a5cb",
   "metadata": {},
   "source": [
    "---\n",
    "layout: default\n",
    "toc: True\n",
    "breadcrumb: True\n",
    "title: Developing Procedures Homework Javascript\n",
    "description: This is my data Developing Procedures homework for javascript.\n",
    "permalink: /github/pages/developing_procedures_hw_js\n",
    "author: Samarth Vaka\n",
    "---"
   ]
  },
  {
   "cell_type": "code",
   "execution_count": null,
   "id": "318cfbe2",
   "metadata": {
    "vscode": {
     "languageId": "javascript"
    }
   },
   "outputs": [],
   "source": [
    "%%js\n",
    "\n",
    "// Procedure: Cube of a number\n",
    "// Takes a number `n` and returns its cube (n³)\n",
    "function cube(n) {\n",
    "  if (typeof n !== \"number\") {\n",
    "    return \"Error: Input must be a number.\";\n",
    "  }\n",
    "  return n ** 3; // cleaner than n * n * n\n",
    "}\n",
    "\n",
    "// Procedure: Sum of an array\n",
    "// Takes an array of numbers and returns their total sum\n",
    "function listSum(numbers) {\n",
    "  if (!Array.isArray(numbers)) {\n",
    "    return \"Error: Input must be an array.\";\n",
    "  }\n",
    "  return numbers.reduce((sum, num) => sum + num, 0);\n",
    "}\n",
    "\n",
    "// Procedure: Palindrome checker\n",
    "// Returns true if the given word reads the same backward\n",
    "function isPalindrome(word) {\n",
    "  if (typeof word !== \"string\") {\n",
    "    return \"Error: Input must be a string.\";\n",
    "  }\n",
    "  const cleaned = word.toLowerCase().replace(/[^a-z0-9]/g, \"\"); // ignore spaces/punctuation\n",
    "  const reversed = cleaned.split('').reverse().join('');\n",
    "  return cleaned === reversed;\n",
    "}\n",
    "\n",
    "// BONUS: Procedure to summarize results\n",
    "// Calls all three functions on example inputs and returns a summary object\n",
    "function demoProcedures() {\n",
    "  const number = 3;\n",
    "  const nums = [1, 2, 3, 4];\n",
    "  const words = [\"racecar\", \"Apple\", \"Madam\", \"hello\"];\n",
    "\n",
    "  return {\n",
    "    cubeOf3: cube(number),\n",
    "    sumOfList: listSum(nums),\n",
    "    palindromeResults: words.map(w => ({ word: w, isPalindrome: isPalindrome(w) }))\n",
    "  };\n",
    "}\n",
    "\n",
    "// Test all functions and print results.\n",
    "console.log(\"Cube of 3:\", cube(3)); // 27\n",
    "console.log(\"Sum of [1,2,3,4]:\", listSum([1,2,3,4])); // 10\n",
    "console.log(\"Is 'racecar' palindrome?\", isPalindrome(\"racecar\")); // true\n",
    "console.log(\"Is 'apple' palindrome?\", isPalindrome(\"apple\")); // false\n",
    "console.log(\"Is 'A man, a plan, a canal: Panama' palindrome?\", isPalindrome(\"A man, a plan, a canal: Panama\")); // true\n",
    "\n",
    "console.log(\" Demo summary:\", demoProcedures());\n",
    "// This code defines three procedures: cube, listSum, and isPalindrome.\n",
    "// Each procedure includes input validation and comments for clarity.\n",
    "// The demoProcedures function showcases their usage with example inputs.\n",
    "// Finally, test calls print results to the console.\n",
    "// I made sure to add to the code beyond just the original requirements for better understanding!\n"
   ]
  }
 ],
 "metadata": {
  "language_info": {
   "name": "python"
  }
 },
 "nbformat": 4,
 "nbformat_minor": 5
}
