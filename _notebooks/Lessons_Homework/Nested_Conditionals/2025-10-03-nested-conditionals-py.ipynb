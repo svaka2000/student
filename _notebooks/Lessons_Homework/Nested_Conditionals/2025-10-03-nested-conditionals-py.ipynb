{
 "cells": [
  {
   "cell_type": "markdown",
   "id": "9881687d",
   "metadata": {},
   "source": [
    "---\n",
    "layout: default\n",
    "toc: True\n",
    "breadcrumb: True\n",
    "title: Nested Conditionals Homework Python\n",
    "description: This is my Nested Conditionals homework for Python.\n",
    "permalink: /github/pages/Nested_Conditionals_hw_py\n",
    "author: Samarth Vaka\n",
    "---"
   ]
  },
  {
   "cell_type": "code",
   "execution_count": null,
   "id": "b66e1d3c",
   "metadata": {},
   "outputs": [],
   "source": [
    "weather = \"rainy\"\n",
    "temperature = 50\n",
    "\n",
    "# Filled in code\n",
    "if weather == \"sunny\":\n",
    "    if temperature >= 70:  # fill in missing operator\n",
    "        print(\"Nice and warm outside!\")  # fill in missing string\n",
    "    else:\n",
    "        print(\"Could be a bit chilly, wear a jacket!\")\n",
    "else:\n",
    "    if weather == \"rainy\":   # fill in missing word\n",
    "        print(\"☔ Don't forget your umbrella!\")\n",
    "    else:\n",
    "        print(\"Enjoy your day!\")  # fill in missing string"
   ]
  },
  {
   "cell_type": "code",
   "execution_count": null,
   "id": "cbc02f28",
   "metadata": {},
   "outputs": [],
   "source": [
    "weather = \"sunny\"\n",
    "has_umbrella = False\n",
    "has_bike = True\n",
    "# Write your nested conditionals here!\n",
    "# Part A: Python Practice\n",
    "\n",
    "weather = \"sunny\"\n",
    "has_umbrella = False\n",
    "has_bike = True\n",
    "\n",
    "if weather == \"rainy\":\n",
    "    if has_umbrella:\n",
    "        print(\"Take the bus!\")\n",
    "    else:\n",
    "        print(\"Call an Uber!\")\n",
    "elif weather == \"sunny\":\n",
    "    if has_bike:\n",
    "        print(\"Bike!\")\n",
    "    else:\n",
    "        print(\"Walk!\")"
   ]
  }
 ],
 "metadata": {
  "language_info": {
   "name": "python"
  }
 },
 "nbformat": 4,
 "nbformat_minor": 5
}
