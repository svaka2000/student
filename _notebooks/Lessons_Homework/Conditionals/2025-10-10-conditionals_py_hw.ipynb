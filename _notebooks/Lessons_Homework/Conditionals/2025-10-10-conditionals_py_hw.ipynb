{
 "cells": [
  {
   "cell_type": "markdown",
   "id": "7ff4c820",
   "metadata": {},
   "source": [
    "---\n",
    "layout: default\n",
    "toc: True\n",
    "breadcrumb: True\n",
    "title: Conditionals Homework Python\n",
    "description: This is my data Conditionals homework for Python.\n",
    "permalink: /github/pages/Conditionals_hw_py\n",
    "author: Samarth Vaka\n",
    "---"
   ]
  },
  {
   "cell_type": "code",
   "execution_count": null,
   "id": "e16356f9",
   "metadata": {},
   "outputs": [],
   "source": [
    "number1 = 10\n",
    "number2 = 0   \n",
    "\n",
    "if number2 != 0:        # fill in the condition\n",
    "    result = number1 / number2   # fill in the operator\n",
    "    print(\"The answer is\", result)  # fill in what to print\n",
    "else:\n",
    "    print(\"Error: Cannot divide by zero!\")  # fill in the missing word\n",
    "\n",
    "# Error: Cannot divide by zero!"
   ]
  },
  {
   "cell_type": "code",
   "execution_count": null,
   "id": "f3d5d090",
   "metadata": {},
   "outputs": [],
   "source": [
    "# <-- Example Code\n",
    "\n",
    "x = 19\n",
    "\n",
    "if x >= 18:\n",
    "    print(\"You can vote\")\n",
    "else:\n",
    "    print(\"You are too young to vote\")\n",
    "\n",
    "# You can vote"
   ]
  },
  {
   "cell_type": "code",
   "execution_count": null,
   "id": "5b326c97",
   "metadata": {},
   "outputs": [],
   "source": [
    "\n",
    "# <-- Do the homework in this code cell\n",
    "# Part B: Python Practice\n",
    "\n",
    "# You can change these values for extra credit\n",
    "score = 95  # I changed this value to test different outputs\n",
    "passing_grade = 60 # Changed this value for extra credit\n",
    "\n",
    "# Check if the score meets or exceeds the passing grade\n",
    "if score >= passing_grade:\n",
    "    print(\" You Pass\")\n",
    "else:\n",
    "    print(\"You Fail\")\n",
    "# You Pass"
   ]
  }
 ],
 "metadata": {
  "language_info": {
   "name": "python"
  }
 },
 "nbformat": 4,
 "nbformat_minor": 5
}
