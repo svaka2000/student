{
 "cells": [
  {
   "cell_type": "markdown",
   "id": "4d607c03",
   "metadata": {},
   "source": [
    "---\n",
    "layout: post\n",
    "toc: True\n",
    "breadcrumb: True\n",
    "title: My APCSP Journey thus far\n",
    "description: My journey and what I've accomplished in APCSP\n",
    "permalink: /github/pages/Journey\n",
    "author: Samarth Vaka\n",
    "---\n"
   ]
  },
  {
   "cell_type": "markdown",
   "id": "b754b952",
   "metadata": {},
   "source": [
    "# Check Python version\n",
    "python --version\n",
    "\n",
    "# Check Git version and configuration\n",
    "git --version\n",
    "git config --global user.name \"Samarth Vaka\"\n",
    "git config --global user.email \"svaka2k@gmail.com\""
   ]
  },
  {
   "cell_type": "markdown",
   "id": "90cb8457",
   "metadata": {},
   "source": [
    "# Setup virtual environment\n",
    "./scripts/venv.sh\n",
    "\n",
    "# Activate venv before running code\n",
    "source/venv/bin/activate"
   ]
  },
  {
   "cell_type": "markdown",
   "id": "66344efa",
   "metadata": {},
   "source": [
    "# Commit notebook with outputs\n",
    "git add <notebook_filename>.ipynb\n",
    "git commit -m \"Updated notebook with outputs\"\n",
    "git push"
   ]
  }
 ],
 "metadata": {
  "language_info": {
   "name": "python"
  }
 },
 "nbformat": 4,
 "nbformat_minor": 5
}
