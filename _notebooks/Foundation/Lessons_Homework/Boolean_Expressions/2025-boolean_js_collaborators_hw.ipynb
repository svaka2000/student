{
 "cells": [
  {
   "cell_type": "markdown",
   "id": "632d4d2f",
   "metadata": {},
   "source": [
    "---\n",
    "layout: default\n",
    "toc: True\n",
    "breadcrumb: True\n",
    "title: Boolean Expressions Homework Javascript\n",
    "description: This is my Boolean Expressions homework for javascript.\n",
    "permalink: /github/pages/Boolean_Expressions_hw_js\n",
    "author: Samarth Vaka\n",
    "---"
   ]
  },
  {
   "cell_type": "code",
   "execution_count": null,
   "id": "8ee57da9",
   "metadata": {
    "vscode": {
     "languageId": "javascript"
    }
   },
   "outputs": [],
   "source": [
    "%%javascript\n",
    "/// Type the appropriate answers to the questions here:\n",
    "// 1. \n",
    "let finishedHomework = true;\n",
    "let age = 15;\n",
    "\n",
    "if (finishedHomework && age >= 13) {\n",
    "    console.log(\"You can watch a movie!\");\n",
    "} else {\n",
    "    console.log(\"You cannot watch a movie.\");\n",
    "}\n",
    "// 2. \n",
    "let orderedDinner = false;\n",
    "let parentSaysYes = true;\n",
    "\n",
    "if (orderedDinner || parentSaysYes) {\n",
    "    console.log(\"You can get dessert!\");\n",
    "} else {\n",
    "    console.log(\"No dessert for you.\");\n",
    "}\n",
    "// 3. \n",
    "let isRaining = false;\n",
    "let temperature = 65;\n",
    "\n",
    "if (!isRaining && temperature > 60) {\n",
    "    console.log(\"You can go outside!\");\n",
    "} else {\n",
    "    console.log(\"Better stay inside.\");\n",
    "}\n",
    "// 4.\n",
    "let isStudent = true;\n",
    "age = 16; // can reuse the age variable from earlier\n",
    "\n",
    "if (isStudent && age < 18) {\n",
    "    console.log(\"You are eligible for a student discount!\");\n",
    "} else {\n",
    "    console.log(\"No discount for you.\");\n",
    "}"
   ]
  },
  {
   "cell_type": "markdown",
   "id": "3d11df3d",
   "metadata": {},
   "source": [
    "1.True\n",
    "2.True\n",
    "3.True\n",
    "4.True\n",
    "5.False"
   ]
  },
  {
   "cell_type": "code",
   "execution_count": null,
   "id": "a850c2dd",
   "metadata": {
    "vscode": {
     "languageId": "javascript"
    }
   },
   "outputs": [],
   "source": [
    "%%javascript\n",
    "// Type the appropriate answers to the questions here:\n",
    "// 1. Error: JavaScript uses && instead of and\n",
    "if (x > 10 && y < 5);\n",
    "// 2. Error: JavaScript uses ! for “not”.\n",
    "if (!isOnline);\n",
    "// 3. Error: => is used for arrow functions, not comparisons. The correct operator is >=.\n",
    "if (age >= 16 || hasLicense);"
   ]
  }
 ],
 "metadata": {
  "language_info": {
   "name": "python"
  }
 },
 "nbformat": 4,
 "nbformat_minor": 5
}
