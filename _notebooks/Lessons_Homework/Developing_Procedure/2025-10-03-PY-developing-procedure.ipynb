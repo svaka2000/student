{
 "cells": [
  {
   "cell_type": "markdown",
   "id": "6d6ab8d5",
   "metadata": {},
   "source": [
    "---\n",
    "layout: default\n",
    "toc: True\n",
    "breadcrumb: True\n",
    "title: Developing Procedures Homework python\n",
    "description: This is my data Developing Procedures homework for python.\n",
    "permalink: /github/pages/developing_procedures_hw_py\n",
    "author: Samarth Vaka\n",
    "---"
   ]
  },
  {
   "cell_type": "code",
   "execution_count": null,
   "id": "5ca3c724",
   "metadata": {},
   "outputs": [],
   "source": [
    "def add(a, b):\n",
    "    return a + b  # ✅ Return the sum so it can be used later too\n",
    "\n",
    "def show_sum(a, b):\n",
    "    total = add(a, b)\n",
    "    print(\"The sum is:\", total)\n",
    "\n",
    "show_sum(7, 6)\n",
    "# addition procedure"
   ]
  },
  {
   "cell_type": "code",
   "execution_count": null,
   "id": "403c827e",
   "metadata": {},
   "outputs": [],
   "source": [
    "# Enhanced morning routine with repeat parameter\n",
    "def morning_routine(repeat=1):\n",
    "    \"\"\"\n",
    "    Executes the main morning tasks in order.\n",
    "    \n",
    "    Parameters:\n",
    "    repeat (int): How many times to perform each activity.\n",
    "    \"\"\"\n",
    "    tasks = [\"Wake up!\", \"Eat breakfast!\", \"Get ready for the day!\", \"Go to school!\"]\n",
    "    \n",
    "    for i in range(repeat):\n",
    "        print(f\"--- Morning round {i + 1} ---\")\n",
    "        for task in tasks:\n",
    "            print(task)\n",
    "\n",
    "# Run the morning routine once\n",
    "morning_routine(1)\n",
    "\n",
    "print(\"\\n\")  # Just for spacing\n",
    "\n",
    "# Run the morning routine twice\n",
    "morning_routine(2)\n",
    "# After combining the tasks into a single procedure, I added a 'repeat' parameter to allow multiple rounds of the routine."
   ]
  },
  {
   "cell_type": "code",
   "execution_count": null,
   "id": "de2641f1",
   "metadata": {},
   "outputs": [],
   "source": [
    "# Function that greets a given name parameter\n",
    "def greet(name):\n",
    "    print(f\"Hi {name}!\")\n",
    "\n",
    "# Test different inputs\n",
    "greet(\"mr. mortenson\")\n",
    "greet(\"John\")\n",
    "greet(\"Samarth\")"
   ]
  },
  {
   "cell_type": "code",
   "execution_count": null,
   "id": "d52dba7c",
   "metadata": {},
   "outputs": [],
   "source": [
    "def get_grades():\n",
    "    grades = [87, 93, 88, 91, 90]\n",
    "    return grades\n",
    "\n",
    "\n",
    "def grade_calc(grades):\n",
    "    total = sum(grades)\n",
    "    average = total / len(grades)\n",
    "    return average\n",
    "\n",
    "def display_grade():\n",
    "    grades = get_grades()\n",
    "    average = grade_calc(grades)\n",
    "    print (\"Your final average grade is:\", average)\n",
    "\n",
    "display_grade()"
   ]
  },
  {
   "cell_type": "code",
   "execution_count": null,
   "id": "ed018ea0",
   "metadata": {},
   "outputs": [],
   "source": [
    "# Procedure: List the exercises for the day\n",
    "def get_exercises():\n",
    "    \"\"\"\n",
    "    Returns a list of exercises for today's workout.\n",
    "    \"\"\"\n",
    "    exercises = [\"Push-ups\", \"Sit-ups\", \"Squats\", \"Jumpingjacks\"]\n",
    "    return exercises\n",
    "\n",
    "# Procedure: Calculate total reps for the exercises\n",
    "def total_reps(exercises):\n",
    "    \"\"\"\n",
    "    Calculates total reps for the workout.\n",
    "    Each exercise has a different number of reps.\n",
    "    \"\"\"\n",
    "    reps_per_exercise = {\"Push-ups\": 15, \"Sit-ups\": 20, \"Squats\": 25, \"Jumping jacks\": 30}\n",
    "    total = 0\n",
    "    for exercise in exercises:\n",
    "        reps = reps_per_exercise.get(exercise, 0)\n",
    "        print(f\"Doing {reps} reps of {exercise}\")  # Multiple steps\n",
    "        total += reps\n",
    "    return total\n",
    "\n",
    "# Procedure: Display the workout summary\n",
    "def display_workout_summary():\n",
    "    \"\"\"\n",
    "    Runs the morning workout routine and prints the summary.\n",
    "    \"\"\"\n",
    "    exercises = get_exercises()               # Call procedure 1\n",
    "    total = total_reps(exercises)             # Call procedure 2\n",
    "    average = total / len(exercises)          # Math function to calculate average reps\n",
    "    print(f\"\\nToday's total reps: {total}\")\n",
    "    print(f\"Average reps per exercise: {average:.1f}\")\n",
    "\n",
    "# Execute the workout\n",
    "display_workout_summary()"
   ]
  }
 ],
 "metadata": {
  "language_info": {
   "name": "python"
  }
 },
 "nbformat": 4,
 "nbformat_minor": 5
}
