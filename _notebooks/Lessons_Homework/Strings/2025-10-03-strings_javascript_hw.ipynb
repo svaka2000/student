{
 "cells": [
  {
   "cell_type": "markdown",
   "id": "265c9f96",
   "metadata": {},
   "source": [
    "---\n",
    "layout: default\n",
    "toc: True\n",
    "breadcrumb: True\n",
    "title: Strings Homework Javascript\n",
    "description: This is my data Strings homework for javascript.\n",
    "permalink: /github/pages/strings_hw_js\n",
    "author: Samarth Vaka\n",
    "---"
   ]
  },
  {
   "cell_type": "markdown",
   "id": "bd2edf8a",
   "metadata": {},
   "source": [
    "Javascript Popcorn Hack"
   ]
  },
  {
   "cell_type": "code",
   "execution_count": null,
   "id": "8a56ab44",
   "metadata": {
    "vscode": {
     "languageId": "javascript"
    }
   },
   "outputs": [],
   "source": [
    "%%javascript\n",
    "let fullName = \"Samarth Vaka\";   // <-- Add your full name\n",
    "\n",
    "// Extract first name (characters before the space)\n",
    "let firstName = fullName.substring(0, 5);   // \"Akhil\" is 5 letters\n",
    "\n",
    "// Extract last name (characters after the space)\n",
    "let lastName = fullName.substring(6);   // Start after the space at index 6\n",
    "\n",
    "// Print results\n",
    "console.log(\"First: \" + firstName);\n",
    "console.log(\"Last: \" + lastName);"
   ]
  },
  {
   "cell_type": "markdown",
   "id": "fa26a6aa",
   "metadata": {},
   "source": [
    "Javascript Strings Homework\n",
    "Task – Password Strength Checker\n",
    "Write a JavaScript program that asks the user to enter a password (use prompt() in the browser).\n",
    "\n",
    "Your program should check for these rules using string methods:\n",
    "\n",
    "The password must be at least 8 characters long.\n",
    "\n",
    "It must include the word \"!\" somewhere.\n",
    "\n",
    "It must not start with a space \" \".\n",
    "\n",
    "Print out one of these messages depending on the input:\n",
    "\n",
    "\"Strong password\" if all rules are met.\n",
    "\n",
    "\"Weak password: too short\" if less than 8 characters.\n",
    "\n",
    "\"Weak password: missing !\" if it doesn’t include \"!\".\n",
    "\n",
    "\"Weak password: cannot start with space\" if it starts with a space.\n"
   ]
  },
  {
   "cell_type": "code",
   "execution_count": null,
   "id": "cb2b82d2",
   "metadata": {
    "vscode": {
     "languageId": "javascript"
    }
   },
   "outputs": [],
   "source": [
    "%%js\n",
    "\n",
    "// Example Username Checker\n",
    "let username = prompt(\"Enter your username:\");\n",
    "\n",
    "// Rule 1: Must be at least 5 characters\n",
    "if (username.length < 5) {\n",
    "    console.log(\"Invalid username: too short\");\n",
    "}\n",
    "// Rule 2: Cannot contain spaces\n",
    "else if (username.includes(\" \")) {\n",
    "    console.log(\"Invalid username: no spaces allowed\");\n",
    "}\n",
    "// Rule 3: Must start with a capital letter\n",
    "else if (username[0] !== username[0].toUpperCase()) {\n",
    "    console.log(\"Username is Invalid: must start with a capital letter\");\n",
    "}\n",
    "// All rules passed\n",
    "else {\n",
    "    console.log(\"Username is valid\");\n",
    "}"
   ]
  },
  {
   "cell_type": "code",
   "execution_count": null,
   "id": "356a12e9",
   "metadata": {
    "vscode": {
     "languageId": "javascript"
    }
   },
   "outputs": [],
   "source": [
    "%%javascript\n",
    "// Homework starts here!\n",
    "\n",
    "// Password Strength Checker\n",
    "let password = prompt(\"Enter your password:\");\n",
    "\n",
    "// Rule 1: Must be at least 8 characters\n",
    "if (password.length < 8) {\n",
    "    console.log(\"Weak password: too short!\");\n",
    "}\n",
    "// Rule 2: Must include \"!\"\n",
    "else if (!password.includes(\"!\")) {\n",
    "    console.log(\"Weak password: Password missing !\");\n",
    "}\n",
    "// Rule 3: Must not start with a space\n",
    "else if (password.startsWith(\" \")) {\n",
    "    console.log(\"Weak password: Password cannot start with space!\");\n",
    "}\n",
    "// All rules passed\n",
    "else {\n",
    "    console.log(\"Strong password\");\n",
    "}"
   ]
  }
 ],
 "metadata": {
  "language_info": {
   "name": "python"
  }
 },
 "nbformat": 4,
 "nbformat_minor": 5
}
