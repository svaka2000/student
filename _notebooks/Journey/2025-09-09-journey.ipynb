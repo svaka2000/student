{
 "cells": [
  {
   "cell_type": "markdown",
   "id": "4d607c03",
   "metadata": {},
   "source": [
    "---\n",
    "layout: post\n",
    "toc: True\n",
    "breadcrumb: True\n",
    "title: My APCSP Journey thus far\n",
    "description: My journey and what I've accomplished in APCSP\n",
    "permalink: /github/pages/Journey\n",
    "author: Samarth Vaka\n",
    "---\n"
   ]
  },
  {
   "cell_type": "markdown",
   "id": "00b05dae",
   "metadata": {},
   "source": [
    "# Tools and Equipment Setup"
   ]
  },
  {
   "cell_type": "code",
   "execution_count": null,
   "id": "b754b952",
   "metadata": {
    "vscode": {
     "languageId": "shellscript"
    }
   },
   "outputs": [],
   "source": [
    "# Check Python version\n",
    "python --version\n",
    "\n",
    "# Check Git version and configuration\n",
    "git --version\n",
    "git config --global user.name \"Samarth Vaka\"\n",
    "git config --global user.email \"svaka2k@gmail.com\""
   ]
  },
  {
   "cell_type": "code",
   "execution_count": null,
   "id": "90cb8457",
   "metadata": {
    "vscode": {
     "languageId": "shellscript"
    }
   },
   "outputs": [],
   "source": [
    "# Setup virtual environment\n",
    "./scripts/venv.sh\n",
    "\n",
    "# Activate venv before running code\n",
    "source/venv/bin/activate"
   ]
  },
  {
   "cell_type": "markdown",
   "id": "21120731",
   "metadata": {},
   "source": [
    "Running make and enabling virtual environment"
   ]
  },
  {
   "cell_type": "code",
   "execution_count": null,
   "id": "a9811194",
   "metadata": {
    "vscode": {
     "languageId": "shellscript"
    }
   },
   "outputs": [],
   "source": [
    "make"
   ]
  },
  {
   "cell_type": "code",
   "execution_count": null,
   "id": "66344efa",
   "metadata": {
    "vscode": {
     "languageId": "shellscript"
    }
   },
   "outputs": [],
   "source": [
    "# Commit notebook with outputs\n",
    "git add <notebook_filename>.ipynb\n",
    "git commit -m \"Updated notebook with outputs\"\n",
    "git push"
   ]
  },
  {
   "cell_type": "markdown",
   "id": "0e2fd8db",
   "metadata": {},
   "source": [
    "# Changing theme"
   ]
  },
  {
   "cell_type": "markdown",
   "id": "ff394dfd",
   "metadata": {},
   "source": [
    "I changed the theme in pages repository using make help commands in terminal"
   ]
  },
  {
   "cell_type": "code",
   "execution_count": null,
   "id": "7571e327",
   "metadata": {
    "vscode": {
     "languageId": "shellscript"
    }
   },
   "outputs": [],
   "source": [
    "make help\n",
    "make build-cayman"
   ]
  },
  {
   "cell_type": "markdown",
   "id": "9e138036",
   "metadata": {},
   "source": [
    "# Changes in Background and Sprites in Background"
   ]
  },
  {
   "cell_type": "markdown",
   "id": "2b85e4ca",
   "metadata": {},
   "source": [
    "I first pasted the files and sprites in my student rpeo from pages usig wget commands"
   ]
  },
  {
   "cell_type": "code",
   "execution_count": null,
   "id": "4df4c8c8",
   "metadata": {
    "vscode": {
     "languageId": "shellscript"
    }
   },
   "outputs": [],
   "source": [
    "mkdir -p hacks\n",
    "wget https://raw.githubusercontent.com/Open-Coding-Society/pages/refs/heads/main/hacks/background.md -O hacks/background.md\n",
    "\n",
    "\n",
    "mkdir -p images/platformer/sprites\n",
    "wget https://raw.githubusercontent.com/Open-Coding-Society/pages/refs/heads/main/images/platformer/sprites/flying-ufo.png -O images/platformer/sprites/flying-ufo.png\n",
    "\n",
    "\n",
    "mkdir -p images/platformer/backgrounds \n",
    "wget https://raw.githubusercontent.com/Open-Coding-Society/pages/refs/heads/main/images/platformer/backgrounds/alien_planet1.jpg -O images/platformer/backgrounds/alien_planet1.jpg"
   ]
  },
  {
   "cell_type": "markdown",
   "id": "f9b01969",
   "metadata": {},
   "source": [
    "I uploaded new montain.jpg background sprite and spirte for UFO to Fish.png, and changed the path in the frontmatter of background.md to these images instead after uploading them in the platformer folder."
   ]
  },
  {
   "cell_type": "code",
   "execution_count": null,
   "id": "69a0632a",
   "metadata": {
    "vscode": {
     "languageId": "shellscript"
    }
   },
   "outputs": [],
   "source": [
    "sprite: images/platformer/sprites/Fish.png\n",
    "background: images/platformer/backgrounds/mountains.jpg"
   ]
  }
 ],
 "metadata": {
  "language_info": {
   "name": "python"
  }
 },
 "nbformat": 4,
 "nbformat_minor": 5
}
