{
 "cells": [
  {
   "cell_type": "markdown",
   "id": "a60668c1",
   "metadata": {},
   "source": [
    "---\n",
    "layout: default\n",
    "toc: True\n",
    "breadcrumb: True\n",
    "title: Calling Procedures Homework Python\n",
    "description: This is my data Conditionals homework for Python.\n",
    "permalink: /github/pages/Conditionals_hw_py\n",
    "author: Samarth Vaka\n",
    "---"
   ]
  },
  {
   "cell_type": "code",
   "execution_count": null,
   "id": "c617c216",
   "metadata": {},
   "outputs": [],
   "source": [
    "def greet():\n",
    "    print(\"Hello, world!\")\n",
    "\n",
    "# call the \"greet\" procedure here\n",
    "greet()\n",
    "\n",
    "def greet(name):\n",
    "    print(\"Hello,\", name)\n",
    "\n",
    "# Put your name and a friend's name into the call!\n",
    "greet(\"Mr.Mortenson\")\n",
    "greet(\"Samarth\")"
   ]
  },
  {
   "cell_type": "code",
   "execution_count": null,
   "id": "233eee20",
   "metadata": {},
   "outputs": [],
   "source": [
    "def jump():\n",
    "    print(\"Jump!\")\n",
    "\n",
    "def dance():  # call the jump procedure in here as many times as you want!\n",
    "    print(\"Spin!\")\n",
    "    jump()\n",
    "    jump()\n",
    "\n",
    "# Call the dance function to run everything\n",
    "dance()"
   ]
  },
  {
   "cell_type": "code",
   "execution_count": null,
   "id": "00c1481e",
   "metadata": {},
   "outputs": [],
   "source": [
    "def add_numbers(a, b):\n",
    "    sum_value = a + b\n",
    "    return sum_value\n",
    "\n",
    "answer = add_numbers(7, 6)\n",
    "print(answer)"
   ]
  }
 ],
 "metadata": {
  "language_info": {
   "name": "python"
  }
 },
 "nbformat": 4,
 "nbformat_minor": 5
}
