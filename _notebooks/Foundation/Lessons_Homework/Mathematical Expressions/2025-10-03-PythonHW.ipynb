{
 "cells": [
  {
   "cell_type": "markdown",
   "id": "01b29ce0",
   "metadata": {},
   "source": [
    "---\n",
    "layout: default\n",
    "toc: True\n",
    "breadcrumb: True\n",
    "title: Mathematical Expressions Homework Javascript\n",
    "description: This is my data Mathematical Expressions homework for python.\n",
    "permalink: /github/pages/mathemcatical_expressions_hw_py\n",
    "author: Samarth Vaka\n",
    "---"
   ]
  },
  {
   "cell_type": "code",
   "execution_count": null,
   "id": "4932b6f0",
   "metadata": {},
   "outputs": [],
   "source": [
    "# 1. Create variables for grades\n",
    "grade1 = 67\n",
    "grade2 = 76\n",
    "\n",
    "# 2. Calculate the average\n",
    "averageGrade = (grade1 + grade2) / 2\n",
    "\n",
    "# 3. Display the result\n",
    "print(\"Average Grade = \", averageGrade)"
   ]
  },
  {
   "cell_type": "code",
   "execution_count": null,
   "id": "679a455b",
   "metadata": {},
   "outputs": [],
   "source": [
    "# 1. Set variables\n",
    "num1 = 6\n",
    "num2 = 7\n",
    "\n",
    "# 2. Perform arithmetic calculations\n",
    "num3 = num1 + num2 * 2       # Multiplication happens first\n",
    "num4 = (num1 + num2) * 2     # Parentheses change the order\n",
    "num5 = num3 / 3 + num4       # Combines division and addition\n",
    "\n",
    "# 3. Display results\n",
    "print(\"num3=\", num3)\n",
    "print(\"num4=\", num4)\n",
    "print(\"num5=\", num5)"
   ]
  },
  {
   "cell_type": "code",
   "execution_count": null,
   "id": "0665198c",
   "metadata": {},
   "outputs": [],
   "source": [
    "# Part 3: Step-by-step algorithm practice with if statements\n",
    "\n",
    "# 1. Set item\n",
    "item = 10\n",
    "\n",
    "# 2. Create three variables\n",
    "num1 = 2\n",
    "num2 = 3\n",
    "num3 = 10\n",
    "\n",
    "# 3. Manually check each variable (store boolean results)\n",
    "check1 = (num1 == item)\n",
    "check2 = (num2 == item)\n",
    "check3 = (num3 == item)\n",
    "\n",
    "# Display the checks\n",
    "print(\"Check num1 (\", num1, \") == item (\", item, \"):\", check1)\n",
    "print(\"Check num2 (\", num2, \") == item (\", item, \"):\", check2)\n",
    "print(\"Check num3 (\", num3, \") == item (\", item, \"):\", check3)\n",
    "\n",
    "# 4. Use if statements to print results\n",
    "if check1:\n",
    "    print(\"Item is in num1\")\n",
    "\n",
    "if check2:\n",
    "    print(\"Item is in num2\")\n",
    "\n",
    "if check3:\n",
    "    print(\"Item is in num3\")\n",
    "\n",
    "# 5. Print \"Item not found\" if none matched\n",
    "if not (check1 or check2 or check3):\n",
    "    print(\"Item was not found\")"
   ]
  },
  {
   "cell_type": "code",
   "execution_count": null,
   "id": "2446fab9",
   "metadata": {},
   "outputs": [],
   "source": [
    "# 1. Create variables\n",
    "a = 7\n",
    "b = 6\n",
    "c = 8\n",
    "\n",
    "# 2. Perform calculations\n",
    "result1 = a + b * c        # Multiplication first\n",
    "result2 = (a + b) * c      # Parentheses change the order\n",
    "result3 = a + (b / c)      # Division happens before addition\n",
    "\n",
    "# 3. Display results\n",
    "print(\"result #1 = \", result1)\n",
    "print(\"result #2 = \", result2)\n",
    "print(\"result #3 = \", result3)\n"
   ]
  }
 ],
 "metadata": {
  "language_info": {
   "name": "python"
  }
 },
 "nbformat": 4,
 "nbformat_minor": 5
}
