{
 "cells": [
  {
   "cell_type": "markdown",
   "id": "7dd363a8",
   "metadata": {},
   "source": [
    "---\n",
    "layout: default\n",
    "toc: True\n",
    "breadcrumb: True\n",
    "title: Nested Conditionals Homework Javasscript\n",
    "description: This is my Nested Conditionals homework for Python.\n",
    "permalink: /github/pages/Nested_Conditionals_hw_js\n",
    "author: Samarth Vaka\n",
    "---"
   ]
  },
  {
   "cell_type": "code",
   "execution_count": null,
   "id": "23310d5d",
   "metadata": {
    "vscode": {
     "languageId": "javascript"
    }
   },
   "outputs": [],
   "source": [
    "%%js\n",
    "let age = parseInt(prompt(\"Enter age:\"));\n",
    "\n",
    "// Using else if\n",
    "if (age < 13) {\n",
    "    console.log(\"You can watch G or PG movies.\");\n",
    "} else if (age <= 17) {\n",
    "    console.log(\"You can watch PG-13 movies.\");\n",
    "} else {\n",
    "    console.log(\"You can watch R-rated movies.\");\n",
    "}\n"
   ]
  },
  {
   "cell_type": "code",
   "execution_count": null,
   "id": "06ee1abb",
   "metadata": {
    "vscode": {
     "languageId": "javascript"
    }
   },
   "outputs": [],
   "source": [
    "%%js\n",
    "let grade = parseInt(prompt(\"Enter grade percentage:\"));\n",
    "\n",
    "// Using else if\n",
    "if (grade >= 90) {\n",
    "    console.log(\"A\");\n",
    "} else if (grade >= 80) {\n",
    "    console.log(\"B\");\n",
    "} else if (grade >= 70) {\n",
    "    console.log(\"C\");\n",
    "} else if (grade >= 60) {\n",
    "    console.log(\"D\");\n",
    "} else {\n",
    "    console.log(\"F\");\n",
    "}"
   ]
  }
 ],
 "metadata": {
  "language_info": {
   "name": "python"
  }
 },
 "nbformat": 4,
 "nbformat_minor": 5
}
