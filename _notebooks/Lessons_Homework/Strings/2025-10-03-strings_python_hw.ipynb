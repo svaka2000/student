{
 "cells": [
  {
   "cell_type": "markdown",
   "id": "b40be4a2",
   "metadata": {},
   "source": [
    "---\n",
    "layout: default\n",
    "toc: True\n",
    "breadcrumb: True\n",
    "title: Strings Homework Python\n",
    "description: This is my data Strings homework for Python.\n",
    "permalink: /github/pages/strings_hw_py\n",
    "author: Samarth Vaka\n",
    "---"
   ]
  },
  {
   "cell_type": "markdown",
   "id": "70929e18",
   "metadata": {},
   "source": [
    "Python Popcorn Hack\n",
    "Write a program that:\n",
    "\n",
    "Creates two string variables: | name = \"Your Name\" | color = \"Favorite Color\" |\n",
    "\n",
    "Prints the sentence: Hello Alex, your favorite color is blue!\n",
    "\n",
    "Then prints the same sentence, but in all uppercase letters.\n"
   ]
  },
  {
   "cell_type": "code",
   "execution_count": null,
   "id": "4ddacb5a",
   "metadata": {},
   "outputs": [],
   "source": [
    "# <-- Homework starts here!\n",
    "# Create string variables\n",
    "name = \"Samarth\"\n",
    "color = \"Red\"\n",
    "\n",
    "# Print the sentence\n",
    "print(f\"Hello {name}, your favorite color is {color}!\")\n",
    "\n",
    "# Print the same sentence in all uppercase\n",
    "print(f\"Hello {name}, your favorite color is {color}!\".upper())"
   ]
  },
  {
   "cell_type": "markdown",
   "id": "204469f1",
   "metadata": {},
   "source": [
    "Hello Samarth, your favorite color is Red!\n",
    "HELLO SAMARTH, YOUR FAVORITE COLOR IS RED!\n",
    "Python Strings Homework\n",
    "Your program should:\n",
    "Remove the extra spaces at the beginning and end.\n",
    "\n",
    "Capitalize only the first letter of the sentence.\n",
    "\n",
    "Replace the word \"python\" with \"Python\".\n",
    "\n",
    "Print the final result.\n",
    "\n",
    "Also print how many characters the cleaned-up sentence has.\n",
    "\n",
    "Hint:\n",
    "Your program should be using these commands:\n",
    "\n",
    ".strip()\n",
    "\n",
    ".capitalize()\n",
    "\n",
    ".replace()\n",
    "\n",
    "len()\n"
   ]
  },
  {
   "cell_type": "code",
   "execution_count": null,
   "id": "a2b28a71",
   "metadata": {},
   "outputs": [],
   "source": [
    "# Example\n",
    "sentence = \"  I love pop music  \"\n",
    "\n",
    "cleaned = sentence.strip()\n",
    "\n",
    "capitalized = cleaned.capitalize()\n",
    "\n",
    "fixed = capitalized.replace(\"pop\", \"rock\")\n",
    "\n",
    "print(fixed)            \n",
    "print(len(fixed))       "
   ]
  },
  {
   "cell_type": "markdown",
   "id": "08c206de",
   "metadata": {},
   "source": [
    "I love rock music\n",
    "17"
   ]
  },
  {
   "cell_type": "code",
   "execution_count": null,
   "id": "2f2b8677",
   "metadata": {},
   "outputs": [],
   "source": [
    "# <-- Homework starts here!\n",
    "# Original sentence with extra spaces\n",
    "sentence = \"    i love programming!    \"\n",
    "\n",
    "# Step 1: Remove extra spaces\n",
    "cleaned_sentence = sentence.strip()\n",
    "\n",
    "# Step 2: Capitalize only the first letter\n",
    "cleaned_sentence = cleaned_sentence.capitalize()\n",
    "\n",
    "# Step 3: Replace \"python\" with \"Python\"\n",
    "cleaned_sentence = cleaned_sentence.replace(\"programming\", \"Coding\")\n",
    "\n",
    "# Step 4: Print the final result\n",
    "print(cleaned_sentence)\n",
    "\n",
    "# Step 5: Print the number of characters\n",
    "print(\"# of characters\", len(cleaned_sentence))"
   ]
  },
  {
   "cell_type": "markdown",
   "id": "1f7f5f70",
   "metadata": {},
   "source": [
    "i love Coding!\n",
    "# of characters: 15"
   ]
  }
 ],
 "metadata": {
  "language_info": {
   "name": "python"
  }
 },
 "nbformat": 4,
 "nbformat_minor": 5
}
